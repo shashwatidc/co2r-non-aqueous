{
 "cells": [
  {
   "cell_type": "markdown",
   "id": "e2baaa12",
   "metadata": {
    "jp-MarkdownHeadingCollapsed": true
   },
   "source": [
    "# Electrolyte model\n",
    "Date updated: 2024/10/01 \\\n",
    "Update notes: Initial commit \\\n",
    "Contact: Shashwati da Cunha, [shashwati.dacunha@austin.utexas.edu](mailto:shashwati.dacunha@austin.utexas.edu)\n",
    "\n",
    "### Instructions\n",
    "1. Not designed for standalone run - this is only a collection of functions. Other notebooks call it.\n",
    "\n",
    "### Notes:\n",
    "This is broken into functions to allow modular running - can run different sections by themselves depending on what data is available. As a result of this structure, there is some redundancy where the same function will be run more than once by an \"overall\" call\n"
   ]
  },
  {
   "cell_type": "markdown",
   "id": "137edb68",
   "metadata": {},
   "source": [
    "## 0. Imports and setup"
   ]
  },
  {
   "cell_type": "markdown",
   "id": "9e1bb94d",
   "metadata": {},
   "source": [
    "### 0.1. Imports and styling"
   ]
  },
  {
   "cell_type": "code",
   "execution_count": 1,
   "id": "f833f67a-7766-4f7a-80a0-e403c70b3070",
   "metadata": {},
   "outputs": [],
   "source": [
    "import pandas as pd\n",
    "import numpy as np\n",
    "from scipy import optimize"
   ]
  },
  {
   "cell_type": "markdown",
   "id": "3d649e22",
   "metadata": {},
   "source": [
    "## 1. Electrolyte property model"
   ]
  },
  {
   "cell_type": "code",
   "execution_count": 1,
   "id": "64d2852b",
   "metadata": {},
   "outputs": [],
   "source": [
    "def kappa(model_conductivity,\n",
    "          viscosity_cP,\n",
    "          catholyte_conc_M,\n",
    "          lambda_reference,\n",
    "          viscosity_reference_cP,\n",
    "          kappa_electrolyte_default_S_cm):\n",
    "    \n",
    "    # TODO: update conductivity as a function of these parameters\n",
    "    # Not sure this is even possible. Maybe just the actual conductivity number and mark off some representative systems?\n",
    "    # Could get a collaborator to measure?\n",
    "    if model_conductivity:    \n",
    "        kappa_electrolyte_S_cm = np.exp(np.ln(viscosity_cP)/np.ln(viscosity_reference_cP) * np.ln(lambda_reference))\n",
    "    else:\n",
    "        kappa_electrolyte_S_cm = kappa_electrolyte_default_S_cm\n",
    "\n",
    "    return kappa_electrolyte_S_cm"
   ]
  }
 ],
 "metadata": {
  "kernelspec": {
   "display_name": "base",
   "language": "python",
   "name": "python3"
  },
  "language_info": {
   "codemirror_mode": {
    "name": "ipython",
    "version": 3
   },
   "file_extension": ".py",
   "mimetype": "text/x-python",
   "name": "python",
   "nbconvert_exporter": "python",
   "pygments_lexer": "ipython3",
   "version": "3.11.7"
  }
 },
 "nbformat": 4,
 "nbformat_minor": 5
}
